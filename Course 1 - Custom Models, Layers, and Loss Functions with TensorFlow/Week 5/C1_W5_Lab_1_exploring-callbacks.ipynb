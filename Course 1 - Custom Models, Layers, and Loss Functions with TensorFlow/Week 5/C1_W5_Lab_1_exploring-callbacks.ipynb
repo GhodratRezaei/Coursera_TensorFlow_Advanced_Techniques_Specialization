{
 "cells": [
  {
   "cell_type": "markdown",
   "metadata": {
    "colab_type": "text",
    "id": "view-in-github"
   },
   "source": [
    "<a href=\"https://colab.research.google.com/github/https-deeplearning-ai/tensorflow-3-public/blob/main/Course%201%20-%20Custom%20Models%2C%20Layers%20and%20Loss%20Functions/Week%205%20-%20Callbacks/C1_W5_Lab_1_exploring-callbacks.ipynb\" target=\"_parent\"><img src=\"https://colab.research.google.com/assets/colab-badge.svg\" alt=\"Open In Colab\"/></a>"
   ]
  },
  {
   "cell_type": "markdown",
   "metadata": {
    "colab_type": "text",
    "id": "0c_TYhQOUe1j"
   },
   "source": [
    "# Ungraded Lab: Introduction to Keras callbacks\n",
    "\n",
    "In Keras, `Callback` is a Python class meant to be subclassed to provide specific functionality, with a set of methods called at various stages of training (including batch/epoch start and ends), testing, and predicting. Callbacks are useful to get a view on internal states and statistics of the model during training. The methods of the callbacks can  be called at different stages of training/evaluating/inference. Keras has available [callbacks](https://keras.io/api/callbacks/) and we'll show how you can use it in the following sections. Please click the **Open in Colab** badge above to complete this exercise in Colab. This will allow you to take advantage of the free GPU runtime (for faster training) and compatibility with all the packages needed in this notebook."
   ]
  },
  {
   "cell_type": "markdown",
   "metadata": {
    "colab_type": "text",
    "id": "Uyl69EyRQx-f"
   },
   "source": [
    "## Model methods that take callbacks\n",
    "Users can supply a list of callbacks to the following `tf.keras.Model` methods:\n",
    "* [`fit()`](https://www.tensorflow.org/versions/r2.0/api_docs/python/tf/keras/Model#fit), [`fit_generator()`](https://www.tensorflow.org/versions/r2.0/api_docs/python/tf/keras/Model#fit_generator)\n",
    "Trains the model for a fixed number of epochs (iterations over a dataset, or data yielded batch-by-batch by a Python generator).\n",
    "* [`evaluate()`](https://www.tensorflow.org/versions/r2.0/api_docs/python/tf/keras/Model#evaluate), [`evaluate_generator()`](https://www.tensorflow.org/versions/r2.0/api_docs/python/tf/keras/Model#evaluate_generator)\n",
    "Evaluates the model for given data or data generator. Outputs the loss and metric values from the evaluation.\n",
    "* [`predict()`](https://www.tensorflow.org/versions/r2.0/api_docs/python/tf/keras/Model#predict), [`predict_generator()`](https://www.tensorflow.org/versions/r2.0/api_docs/python/tf/keras/Model#predict_generator)\n",
    "Generates output predictions for the input data or data generator."
   ]
  },
  {
   "cell_type": "markdown",
   "metadata": {},
   "source": [
    "## Imports"
   ]
  },
  {
   "cell_type": "code",
   "execution_count": 1,
   "metadata": {
    "colab": {},
    "colab_type": "code",
    "id": "AlT1Kh3uA9lZ"
   },
   "outputs": [
    {
     "name": "stdout",
     "output_type": "stream",
     "text": [
      "Version:  2.1.0\n"
     ]
    }
   ],
   "source": [
    "from __future__ import absolute_import, division, print_function, unicode_literals\n",
    "\n",
    "try:\n",
    "    # %tensorflow_version only exists in Colab.\n",
    "    %tensorflow_version 2.x\n",
    "except Exception:\n",
    "    pass\n",
    "\n",
    "import tensorflow as tf\n",
    "import tensorflow_datasets as tfds\n",
    "import matplotlib.pyplot as plt\n",
    "import io\n",
    "from PIL import Image\n",
    "\n",
    "from tensorflow.keras.callbacks import TensorBoard, EarlyStopping, LearningRateScheduler, ModelCheckpoint, CSVLogger, ReduceLROnPlateau\n",
    "%load_ext tensorboard\n",
    "\n",
    "import os\n",
    "import matplotlib.pylab as plt\n",
    "import numpy as np\n",
    "import math\n",
    "import datetime\n",
    "import pandas as pd\n",
    "\n",
    "print(\"Version: \", tf.__version__)\n",
    "tf.get_logger().setLevel('INFO')"
   ]
  },
  {
   "cell_type": "markdown",
   "metadata": {
    "colab_type": "text",
    "id": "HnSljqtsXKfb"
   },
   "source": [
    "# Examples of Keras callback applications\n",
    "The following section will guide you through creating simple [Callback](https://keras.io/api/callbacks/) applications."
   ]
  },
  {
   "cell_type": "code",
   "execution_count": 2,
   "metadata": {
    "colab": {},
    "colab_type": "code",
    "id": "spskRuxvCYQE"
   },
   "outputs": [],
   "source": [
    "# Download and prepare the horses or humans dataset\n",
    "\n",
    "# horses_or_humans 3.0.0 has already been downloaded for you\n",
    "path = \"./tensorflow_datasets\"\n",
    "splits, info = tfds.load('horses_or_humans', data_dir=path, as_supervised=True, with_info=True, split=['train[:80%]', 'train[80%:]', 'test'])\n",
    "\n",
    "(train_examples, validation_examples, test_examples) = splits\n",
    "\n",
    "num_examples = info.splits['train'].num_examples\n",
    "num_classes = info.features['label'].num_classes"
   ]
  },
  {
   "cell_type": "code",
   "execution_count": 3,
   "metadata": {
    "colab": {},
    "colab_type": "code",
    "id": "veIsubKTCZsN"
   },
   "outputs": [],
   "source": [
    "SIZE = 150 #@param {type:\"slider\", min:64, max:300, step:1}\n",
    "IMAGE_SIZE = (SIZE, SIZE)"
   ]
  },
  {
   "cell_type": "code",
   "execution_count": 4,
   "metadata": {
    "colab": {},
    "colab_type": "code",
    "id": "faajLlErCb1S"
   },
   "outputs": [],
   "source": [
    "def format_image(image, label):\n",
    "  image = tf.image.resize(image, IMAGE_SIZE) / 255.0\n",
    "  return  image, label"
   ]
  },
  {
   "cell_type": "code",
   "execution_count": 5,
   "metadata": {
    "colab": {},
    "colab_type": "code",
    "id": "AVXPuU12Cdka"
   },
   "outputs": [],
   "source": [
    "BATCH_SIZE = 32 #@param {type:\"integer\"}"
   ]
  },
  {
   "cell_type": "code",
   "execution_count": 6,
   "metadata": {
    "colab": {},
    "colab_type": "code",
    "id": "0lHDkFVaCe48"
   },
   "outputs": [],
   "source": [
    "train_batches = train_examples.shuffle(num_examples // 4).map(format_image).batch(BATCH_SIZE).prefetch(1)\n",
    "validation_batches = validation_examples.map(format_image).batch(BATCH_SIZE).prefetch(1)\n",
    "test_batches = test_examples.map(format_image).batch(1)"
   ]
  },
  {
   "cell_type": "code",
   "execution_count": 7,
   "metadata": {
    "colab": {},
    "colab_type": "code",
    "id": "DxsCqEIkCgUt"
   },
   "outputs": [
    {
     "data": {
      "text/plain": [
       "TensorShape([32, 150, 150, 3])"
      ]
     },
     "execution_count": 7,
     "metadata": {},
     "output_type": "execute_result"
    }
   ],
   "source": [
    "for image_batch, label_batch in train_batches.take(1):\n",
    "  pass\n",
    "\n",
    "image_batch.shape"
   ]
  },
  {
   "cell_type": "code",
   "execution_count": 8,
   "metadata": {
    "colab": {},
    "colab_type": "code",
    "id": "iDBpWvHXCh2A"
   },
   "outputs": [],
   "source": [
    "def build_model(dense_units, input_shape=IMAGE_SIZE + (3,)):\n",
    "  model = tf.keras.models.Sequential([\n",
    "      tf.keras.layers.Conv2D(16, (3, 3), activation='relu', input_shape=input_shape),\n",
    "      tf.keras.layers.MaxPooling2D(2, 2),\n",
    "      tf.keras.layers.Conv2D(32, (3, 3), activation='relu'),\n",
    "      tf.keras.layers.MaxPooling2D(2, 2),\n",
    "      tf.keras.layers.Conv2D(64, (3, 3), activation='relu'),\n",
    "      tf.keras.layers.MaxPooling2D(2, 2),\n",
    "      tf.keras.layers.Flatten(),\n",
    "      tf.keras.layers.Dense(dense_units, activation='relu'),\n",
    "      tf.keras.layers.Dense(2, activation='softmax')\n",
    "  ])\n",
    "  return model"
   ]
  },
  {
   "cell_type": "markdown",
   "metadata": {
    "colab_type": "text",
    "id": "0ZKGkjagENSw"
   },
   "source": [
    "## [TensorBoard](https://keras.io/api/callbacks/tensorboard/)\n",
    "\n",
    "Enable visualizations for TensorBoard."
   ]
  },
  {
   "cell_type": "code",
   "execution_count": null,
   "metadata": {
    "colab": {},
    "colab_type": "code",
    "id": "CeiD2WVEHbex"
   },
   "outputs": [],
   "source": [
    "!rm -rf logs"
   ]
  },
  {
   "cell_type": "code",
   "execution_count": 9,
   "metadata": {
    "colab": {},
    "colab_type": "code",
    "id": "PpLwPLnAEOzv"
   },
   "outputs": [
    {
     "name": "stdout",
     "output_type": "stream",
     "text": [
      "Epoch 1/10\n",
      "26/26 [==============================] - 21s 795ms/step - loss: 0.6782 - accuracy: 0.5706 - val_loss: 0.6685 - val_accuracy: 0.6683\n",
      "Epoch 2/10\n",
      "26/26 [==============================] - 20s 765ms/step - loss: 0.6424 - accuracy: 0.7165 - val_loss: 0.6409 - val_accuracy: 0.6634\n",
      "Epoch 3/10\n",
      "26/26 [==============================] - 19s 750ms/step - loss: 0.6000 - accuracy: 0.7214 - val_loss: 0.5977 - val_accuracy: 0.7220\n",
      "Epoch 4/10\n",
      "26/26 [==============================] - 19s 746ms/step - loss: 0.5414 - accuracy: 0.7530 - val_loss: 0.5099 - val_accuracy: 0.7561\n",
      "Epoch 5/10\n",
      "26/26 [==============================] - 19s 750ms/step - loss: 0.4807 - accuracy: 0.7835 - val_loss: 0.4741 - val_accuracy: 0.7951\n",
      "Epoch 6/10\n",
      "26/26 [==============================] - 19s 746ms/step - loss: 0.4261 - accuracy: 0.8285 - val_loss: 0.3896 - val_accuracy: 0.8585\n",
      "Epoch 7/10\n",
      "26/26 [==============================] - 20s 754ms/step - loss: 0.3776 - accuracy: 0.8552 - val_loss: 0.3525 - val_accuracy: 0.8488\n",
      "Epoch 8/10\n",
      "26/26 [==============================] - 19s 750ms/step - loss: 0.3182 - accuracy: 0.8747 - val_loss: 0.2654 - val_accuracy: 0.9220\n",
      "Epoch 9/10\n",
      "26/26 [==============================] - 20s 765ms/step - loss: 0.2516 - accuracy: 0.9221 - val_loss: 0.2239 - val_accuracy: 0.9317\n",
      "Epoch 10/10\n",
      "26/26 [==============================] - 20s 761ms/step - loss: 0.2128 - accuracy: 0.9355 - val_loss: 0.2615 - val_accuracy: 0.8683\n"
     ]
    },
    {
     "data": {
      "text/plain": [
       "<tensorflow.python.keras.callbacks.History at 0x7f78a4289d50>"
      ]
     },
     "execution_count": 9,
     "metadata": {},
     "output_type": "execute_result"
    }
   ],
   "source": [
    "model = build_model(dense_units=256)\n",
    "model.compile(\n",
    "    optimizer='sgd',\n",
    "    loss='sparse_categorical_crossentropy', \n",
    "    metrics=['accuracy'])\n",
    "  \n",
    "logdir = os.path.join(\"logs\", datetime.datetime.now().strftime(\"%Y%m%d-%H%M%S\"))\n",
    "tensorboard_callback = tf.keras.callbacks.TensorBoard(logdir)\n",
    "\n",
    "model.fit(train_batches, \n",
    "          epochs=10, \n",
    "          validation_data=validation_batches, \n",
    "          callbacks=[tensorboard_callback])"
   ]
  },
  {
   "cell_type": "code",
   "execution_count": 10,
   "metadata": {
    "colab": {},
    "colab_type": "code",
    "id": "iJunWOjZE0ir"
   },
   "outputs": [
    {
     "data": {
      "text/html": [
       "\n",
       "      <iframe id=\"tensorboard-frame-746adc1a662984d2\" width=\"100%\" height=\"800\" frameborder=\"0\">\n",
       "      </iframe>\n",
       "      <script>\n",
       "        (function() {\n",
       "          const frame = document.getElementById(\"tensorboard-frame-746adc1a662984d2\");\n",
       "          const url = new URL(\"/\", window.location);\n",
       "          url.port = 6006;\n",
       "          frame.src = url;\n",
       "        })();\n",
       "      </script>\n",
       "  "
      ],
      "text/plain": [
       "<IPython.core.display.HTML object>"
      ]
     },
     "metadata": {},
     "output_type": "display_data"
    }
   ],
   "source": [
    "%tensorboard --logdir logs"
   ]
  },
  {
   "cell_type": "markdown",
   "metadata": {
    "colab_type": "text",
    "id": "wv9H4Pc2Mfl7"
   },
   "source": [
    "## [Model Checkpoint](https://keras.io/api/callbacks/model_checkpoint/)\n",
    "\n",
    "Callback to save the Keras model or model weights at some frequency."
   ]
  },
  {
   "cell_type": "code",
   "execution_count": 11,
   "metadata": {
    "colab": {},
    "colab_type": "code",
    "id": "PYV4FJ8iMmDq"
   },
   "outputs": [
    {
     "name": "stdout",
     "output_type": "stream",
     "text": [
      "Epoch 1/5\n",
      "\n",
      "Epoch 00001: saving model to weights.01-0.65.h5\n",
      "26/26 - 20s - loss: 0.6755 - accuracy: 0.5633 - val_loss: 0.6522 - val_accuracy: 0.8195\n",
      "Epoch 2/5\n",
      "\n",
      "Epoch 00002: saving model to weights.02-0.61.h5\n",
      "26/26 - 20s - loss: 0.6190 - accuracy: 0.7336 - val_loss: 0.6052 - val_accuracy: 0.7122\n",
      "Epoch 3/5\n",
      "\n",
      "Epoch 00003: saving model to weights.03-0.70.h5\n",
      "26/26 - 19s - loss: 0.5635 - accuracy: 0.7530 - val_loss: 0.7009 - val_accuracy: 0.4732\n",
      "Epoch 4/5\n",
      "\n",
      "Epoch 00004: saving model to weights.04-0.53.h5\n",
      "26/26 - 20s - loss: 0.5105 - accuracy: 0.7628 - val_loss: 0.5257 - val_accuracy: 0.7512\n",
      "Epoch 5/5\n",
      "\n",
      "Epoch 00005: saving model to weights.05-0.43.h5\n",
      "26/26 - 19s - loss: 0.4631 - accuracy: 0.7920 - val_loss: 0.4345 - val_accuracy: 0.8293\n"
     ]
    },
    {
     "data": {
      "text/plain": [
       "<tensorflow.python.keras.callbacks.History at 0x7f7958a6edd0>"
      ]
     },
     "execution_count": 11,
     "metadata": {},
     "output_type": "execute_result"
    }
   ],
   "source": [
    "model = build_model(dense_units=256)\n",
    "model.compile(\n",
    "    optimizer='sgd',\n",
    "    loss='sparse_categorical_crossentropy', \n",
    "    metrics=['accuracy'])\n",
    "  \n",
    "model.fit(train_batches, \n",
    "          epochs=5, \n",
    "          validation_data=validation_batches, \n",
    "          verbose=2,\n",
    "          callbacks=[ModelCheckpoint('weights.{epoch:02d}-{val_loss:.2f}.h5', verbose=1),\n",
    "          ])"
   ]
  },
  {
   "cell_type": "code",
   "execution_count": 14,
   "metadata": {
    "colab": {},
    "colab_type": "code",
    "id": "oGvjQ8IlMmK6"
   },
   "outputs": [
    {
     "name": "stdout",
     "output_type": "stream",
     "text": [
      "\n",
      "Epoch 00001: saving model to saved_model\n",
      "INFO:tensorflow:Assets written to: saved_model/assets\n"
     ]
    },
    {
     "name": "stderr",
     "output_type": "stream",
     "text": [
      "INFO:tensorflow:Assets written to: saved_model/assets\n"
     ]
    },
    {
     "name": "stdout",
     "output_type": "stream",
     "text": [
      "26/26 - 21s - loss: 0.6608 - accuracy: 0.6180 - val_loss: 0.6387 - val_accuracy: 0.7854\n"
     ]
    },
    {
     "data": {
      "text/plain": [
       "<tensorflow.python.keras.callbacks.History at 0x7f79584f0190>"
      ]
     },
     "execution_count": 14,
     "metadata": {},
     "output_type": "execute_result"
    }
   ],
   "source": [
    "model = build_model(dense_units=256)\n",
    "model.compile(\n",
    "    optimizer='sgd',\n",
    "    loss='sparse_categorical_crossentropy', \n",
    "    metrics=['accuracy'])\n",
    "  \n",
    "model.fit(train_batches, \n",
    "          epochs=1, \n",
    "          validation_data=validation_batches, \n",
    "          verbose=2,\n",
    "          callbacks=[ModelCheckpoint('saved_model', verbose=1)\n",
    "          ])"
   ]
  },
  {
   "cell_type": "code",
   "execution_count": 15,
   "metadata": {
    "colab": {},
    "colab_type": "code",
    "id": "Y1ConwoB0EjD"
   },
   "outputs": [
    {
     "name": "stdout",
     "output_type": "stream",
     "text": [
      "Epoch 1/2\n",
      "\n",
      "Epoch 00001: saving model to model.h5\n",
      "26/26 - 21s - loss: 0.6742 - accuracy: 0.5633 - val_loss: 0.6579 - val_accuracy: 0.7317\n",
      "Epoch 2/2\n",
      "\n",
      "Epoch 00002: saving model to model.h5\n",
      "26/26 - 20s - loss: 0.6373 - accuracy: 0.6910 - val_loss: 0.6437 - val_accuracy: 0.5805\n"
     ]
    },
    {
     "data": {
      "text/plain": [
       "<tensorflow.python.keras.callbacks.History at 0x7f795841ae50>"
      ]
     },
     "execution_count": 15,
     "metadata": {},
     "output_type": "execute_result"
    }
   ],
   "source": [
    "model = build_model(dense_units=256)\n",
    "model.compile(\n",
    "    optimizer='sgd',\n",
    "    loss='sparse_categorical_crossentropy', \n",
    "    metrics=['accuracy'])\n",
    "  \n",
    "model.fit(train_batches, \n",
    "          epochs=2, \n",
    "          validation_data=validation_batches, \n",
    "          verbose=2,\n",
    "          callbacks=[ModelCheckpoint('model.h5', verbose=1)\n",
    "          ])"
   ]
  },
  {
   "cell_type": "markdown",
   "metadata": {
    "colab_type": "text",
    "id": "kptNF0--Lznv"
   },
   "source": [
    "## [Early stopping](https://keras.io/api/callbacks/early_stopping/)\n",
    "\n",
    "Stop training when a monitored metric has stopped improving."
   ]
  },
  {
   "cell_type": "code",
   "execution_count": 16,
   "metadata": {
    "colab": {},
    "colab_type": "code",
    "id": "KJOJTJYdCkdY"
   },
   "outputs": [
    {
     "name": "stdout",
     "output_type": "stream",
     "text": [
      "Epoch 1/50\n",
      "26/26 - 20s - loss: 0.6720 - accuracy: 0.5852 - val_loss: 0.6350 - val_accuracy: 0.8341\n",
      "Epoch 2/50\n",
      "26/26 - 22s - loss: 0.6079 - accuracy: 0.7433 - val_loss: 0.6484 - val_accuracy: 0.5317\n",
      "Epoch 3/50\n",
      "26/26 - 20s - loss: 0.5329 - accuracy: 0.7628 - val_loss: 0.4893 - val_accuracy: 0.8244\n",
      "Epoch 4/50\n",
      "26/26 - 20s - loss: 0.4752 - accuracy: 0.8175 - val_loss: 0.5662 - val_accuracy: 0.6634\n",
      "Epoch 5/50\n",
      "26/26 - 20s - loss: 0.4039 - accuracy: 0.8467 - val_loss: 0.3534 - val_accuracy: 0.8780\n",
      "Epoch 6/50\n",
      "26/26 - 20s - loss: 0.3342 - accuracy: 0.8844 - val_loss: 0.4003 - val_accuracy: 0.8244\n",
      "Epoch 7/50\n",
      "26/26 - 20s - loss: 0.2691 - accuracy: 0.9027 - val_loss: 0.4249 - val_accuracy: 0.7854\n",
      "Epoch 8/50\n",
      "26/26 - 20s - loss: 0.2464 - accuracy: 0.9148 - val_loss: 0.1717 - val_accuracy: 0.9756\n",
      "Epoch 9/50\n",
      "26/26 - 20s - loss: 0.1720 - accuracy: 0.9574 - val_loss: 0.3181 - val_accuracy: 0.8488\n",
      "Epoch 10/50\n",
      "26/26 - 21s - loss: 0.1523 - accuracy: 0.9611 - val_loss: 0.1147 - val_accuracy: 0.9854\n",
      "Epoch 11/50\n",
      "26/26 - 20s - loss: 0.1171 - accuracy: 0.9720 - val_loss: 0.1187 - val_accuracy: 0.9561\n",
      "Epoch 12/50\n",
      "26/26 - 20s - loss: 0.0929 - accuracy: 0.9793 - val_loss: 0.1309 - val_accuracy: 0.9561\n",
      "Epoch 13/50\n",
      "Restoring model weights from the end of the best epoch.\n",
      "26/26 - 21s - loss: 0.1137 - accuracy: 0.9684 - val_loss: 0.0715 - val_accuracy: 0.9805\n",
      "Epoch 00013: early stopping\n"
     ]
    },
    {
     "data": {
      "text/plain": [
       "<tensorflow.python.keras.callbacks.History at 0x7f79584ddf50>"
      ]
     },
     "execution_count": 16,
     "metadata": {},
     "output_type": "execute_result"
    }
   ],
   "source": [
    "model = build_model(dense_units=256)\n",
    "model.compile(\n",
    "    optimizer='sgd',\n",
    "    loss='sparse_categorical_crossentropy', \n",
    "    metrics=['accuracy'])\n",
    "  \n",
    "model.fit(train_batches, \n",
    "          epochs=50, \n",
    "          validation_data=validation_batches, \n",
    "          verbose=2,\n",
    "          callbacks=[EarlyStopping(\n",
    "              patience=3,\n",
    "              min_delta=0.05,\n",
    "              baseline=0.8,\n",
    "              mode='min',\n",
    "              monitor='val_loss',\n",
    "              restore_best_weights=True,\n",
    "              verbose=1)\n",
    "          ])"
   ]
  },
  {
   "cell_type": "markdown",
   "metadata": {
    "colab_type": "text",
    "id": "8mDzWUD4Pqq5"
   },
   "source": [
    "## [CSV Logger](https://keras.io/api/callbacks/csv_logger/)\n",
    "\n",
    "Callback that streams epoch results to a CSV file."
   ]
  },
  {
   "cell_type": "code",
   "execution_count": 17,
   "metadata": {
    "colab": {},
    "colab_type": "code",
    "id": "cffnMpmGPtMh"
   },
   "outputs": [
    {
     "name": "stdout",
     "output_type": "stream",
     "text": [
      "Epoch 1/5\n",
      "26/26 [==============================] - 21s 799ms/step - loss: 0.6738 - accuracy: 0.5876 - val_loss: 0.6474 - val_accuracy: 0.7610\n",
      "Epoch 2/5\n",
      "26/26 [==============================] - 22s 847ms/step - loss: 0.6253 - accuracy: 0.6934 - val_loss: 0.6066 - val_accuracy: 0.7463\n",
      "Epoch 3/5\n",
      "26/26 [==============================] - 20s 779ms/step - loss: 0.5724 - accuracy: 0.7372 - val_loss: 0.5664 - val_accuracy: 0.7463\n",
      "Epoch 4/5\n",
      "26/26 [==============================] - 20s 781ms/step - loss: 0.5001 - accuracy: 0.7810 - val_loss: 0.4727 - val_accuracy: 0.7756\n",
      "Epoch 5/5\n",
      "26/26 [==============================] - 20s 770ms/step - loss: 0.4556 - accuracy: 0.7993 - val_loss: 0.5156 - val_accuracy: 0.7220\n"
     ]
    },
    {
     "data": {
      "text/plain": [
       "<tensorflow.python.keras.callbacks.History at 0x7f7958420410>"
      ]
     },
     "execution_count": 17,
     "metadata": {},
     "output_type": "execute_result"
    }
   ],
   "source": [
    "model = build_model(dense_units=256)\n",
    "model.compile(\n",
    "    optimizer='sgd',\n",
    "    loss='sparse_categorical_crossentropy', \n",
    "    metrics=['accuracy'])\n",
    "  \n",
    "csv_file = 'training.csv'\n",
    "\n",
    "model.fit(train_batches, \n",
    "          epochs=5, \n",
    "          validation_data=validation_batches, \n",
    "          callbacks=[CSVLogger(csv_file)\n",
    "          ])"
   ]
  },
  {
   "cell_type": "code",
   "execution_count": 34,
   "metadata": {
    "colab": {},
    "colab_type": "code",
    "id": "B9tkYi03QV7R"
   },
   "outputs": [
    {
     "data": {
      "text/html": [
       "<div>\n",
       "<style scoped>\n",
       "    .dataframe tbody tr th:only-of-type {\n",
       "        vertical-align: middle;\n",
       "    }\n",
       "\n",
       "    .dataframe tbody tr th {\n",
       "        vertical-align: top;\n",
       "    }\n",
       "\n",
       "    .dataframe thead th {\n",
       "        text-align: right;\n",
       "    }\n",
       "</style>\n",
       "<table border=\"1\" class=\"dataframe\">\n",
       "  <thead>\n",
       "    <tr style=\"text-align: right;\">\n",
       "      <th></th>\n",
       "      <th>epoch</th>\n",
       "      <th>accuracy</th>\n",
       "      <th>loss</th>\n",
       "      <th>val_accuracy</th>\n",
       "      <th>val_loss</th>\n",
       "    </tr>\n",
       "  </thead>\n",
       "  <tbody>\n",
       "    <tr>\n",
       "      <th>0</th>\n",
       "      <td>0</td>\n",
       "      <td>0.587591</td>\n",
       "      <td>0.674217</td>\n",
       "      <td>0.760976</td>\n",
       "      <td>0.647391</td>\n",
       "    </tr>\n",
       "    <tr>\n",
       "      <th>1</th>\n",
       "      <td>1</td>\n",
       "      <td>0.693431</td>\n",
       "      <td>0.625522</td>\n",
       "      <td>0.746341</td>\n",
       "      <td>0.606644</td>\n",
       "    </tr>\n",
       "    <tr>\n",
       "      <th>2</th>\n",
       "      <td>2</td>\n",
       "      <td>0.737226</td>\n",
       "      <td>0.573194</td>\n",
       "      <td>0.746341</td>\n",
       "      <td>0.566379</td>\n",
       "    </tr>\n",
       "    <tr>\n",
       "      <th>3</th>\n",
       "      <td>3</td>\n",
       "      <td>0.781022</td>\n",
       "      <td>0.500925</td>\n",
       "      <td>0.775610</td>\n",
       "      <td>0.472661</td>\n",
       "    </tr>\n",
       "    <tr>\n",
       "      <th>4</th>\n",
       "      <td>4</td>\n",
       "      <td>0.799270</td>\n",
       "      <td>0.457036</td>\n",
       "      <td>0.721951</td>\n",
       "      <td>0.515556</td>\n",
       "    </tr>\n",
       "  </tbody>\n",
       "</table>\n",
       "</div>"
      ],
      "text/plain": [
       "   epoch  accuracy      loss  val_accuracy  val_loss\n",
       "0      0  0.587591  0.674217      0.760976  0.647391\n",
       "1      1  0.693431  0.625522      0.746341  0.606644\n",
       "2      2  0.737226  0.573194      0.746341  0.566379\n",
       "3      3  0.781022  0.500925      0.775610  0.472661\n",
       "4      4  0.799270  0.457036      0.721951  0.515556"
      ]
     },
     "execution_count": 34,
     "metadata": {},
     "output_type": "execute_result"
    }
   ],
   "source": [
    "pd.read_csv(csv_file)"
   ]
  },
  {
   "cell_type": "markdown",
   "metadata": {
    "colab_type": "text",
    "id": "Dt9C2Y9fRBKN"
   },
   "source": [
    "## [Learning Rate Scheduler](https://keras.io/api/callbacks/learning_rate_scheduler/)\n",
    "\n",
    "Updates the learning rate during training."
   ]
  },
  {
   "cell_type": "code",
   "execution_count": 35,
   "metadata": {
    "colab": {},
    "colab_type": "code",
    "id": "aJi-xY2VRC03"
   },
   "outputs": [
    {
     "name": "stdout",
     "output_type": "stream",
     "text": [
      "\n",
      "Epoch 00001: LearningRateScheduler reducing learning rate to 0.005.\n",
      "Epoch 1/5\n",
      "26/26 [==============================] - 23s 891ms/step - loss: 0.6823 - accuracy: 0.5328 - val_loss: 0.6836 - val_accuracy: 0.4634\n",
      "\n",
      "Epoch 00002: LearningRateScheduler reducing learning rate to 0.0025.\n",
      "Epoch 2/5\n",
      "26/26 [==============================] - 21s 799ms/step - loss: 0.6629 - accuracy: 0.5693 - val_loss: 0.6792 - val_accuracy: 0.4634\n",
      "\n",
      "Epoch 00003: LearningRateScheduler reducing learning rate to 0.00125.\n",
      "Epoch 3/5\n",
      "26/26 [==============================] - 20s 773ms/step - loss: 0.6541 - accuracy: 0.5779 - val_loss: 0.6698 - val_accuracy: 0.5024\n",
      "\n",
      "Epoch 00004: LearningRateScheduler reducing learning rate to 0.000625.\n",
      "Epoch 4/5\n",
      "26/26 [==============================] - 21s 799ms/step - loss: 0.6491 - accuracy: 0.5900 - val_loss: 0.6665 - val_accuracy: 0.5171\n",
      "\n",
      "Epoch 00005: LearningRateScheduler reducing learning rate to 0.0003125.\n",
      "Epoch 5/5\n",
      "26/26 [==============================] - 20s 785ms/step - loss: 0.6471 - accuracy: 0.6095 - val_loss: 0.6647 - val_accuracy: 0.5220\n"
     ]
    },
    {
     "data": {
      "text/plain": [
       "<tensorflow.python.keras.callbacks.History at 0x7f79420cfb10>"
      ]
     },
     "execution_count": 35,
     "metadata": {},
     "output_type": "execute_result"
    }
   ],
   "source": [
    "model = build_model(dense_units=256)\n",
    "model.compile(\n",
    "    optimizer='sgd',\n",
    "    loss='sparse_categorical_crossentropy', \n",
    "    metrics=['accuracy'])\n",
    "  \n",
    "def step_decay(epoch):\n",
    "\tinitial_lr = 0.01\n",
    "\tdrop = 0.5\n",
    "\tepochs_drop = 1\n",
    "\tlr = initial_lr * math.pow(drop, math.floor((1+epoch)/epochs_drop))\n",
    "\treturn lr\n",
    "\n",
    "\n",
    "model.fit(train_batches, \n",
    "          epochs=5, \n",
    "          validation_data=validation_batches, \n",
    "          callbacks=[LearningRateScheduler(step_decay, verbose=1),\n",
    "                    TensorBoard(log_dir='./log_dir')])"
   ]
  },
  {
   "cell_type": "code",
   "execution_count": 36,
   "metadata": {
    "colab": {},
    "colab_type": "code",
    "id": "M2S4n8nrbV91"
   },
   "outputs": [
    {
     "data": {
      "text/html": [
       "\n",
       "      <iframe id=\"tensorboard-frame-af05fe4add8ca2e2\" width=\"100%\" height=\"800\" frameborder=\"0\">\n",
       "      </iframe>\n",
       "      <script>\n",
       "        (function() {\n",
       "          const frame = document.getElementById(\"tensorboard-frame-af05fe4add8ca2e2\");\n",
       "          const url = new URL(\"/\", window.location);\n",
       "          url.port = 6007;\n",
       "          frame.src = url;\n",
       "        })();\n",
       "      </script>\n",
       "  "
      ],
      "text/plain": [
       "<IPython.core.display.HTML object>"
      ]
     },
     "metadata": {},
     "output_type": "display_data"
    }
   ],
   "source": [
    "%tensorboard --logdir log_dir"
   ]
  },
  {
   "cell_type": "markdown",
   "metadata": {
    "colab_type": "text",
    "id": "y0wcuQyJE_UK"
   },
   "source": [
    "## [ReduceLROnPlateau](https://keras.io/api/callbacks/reduce_lr_on_plateau/)\n",
    "\n",
    "Reduce learning rate when a metric has stopped improving."
   ]
  },
  {
   "cell_type": "code",
   "execution_count": 37,
   "metadata": {
    "colab": {},
    "colab_type": "code",
    "id": "4naxZ-eCFB27"
   },
   "outputs": [
    {
     "name": "stdout",
     "output_type": "stream",
     "text": [
      "Epoch 1/50\n",
      "26/26 [==============================] - 30s 1s/step - loss: 0.6695 - accuracy: 0.6071 - val_loss: 0.6376 - val_accuracy: 0.6976\n",
      "Epoch 2/50\n",
      "26/26 [==============================] - 21s 811ms/step - loss: 0.6210 - accuracy: 0.6971 - val_loss: 0.5867 - val_accuracy: 0.8293\n",
      "Epoch 3/50\n",
      "26/26 [==============================] - 22s 858ms/step - loss: 0.5841 - accuracy: 0.7202 - val_loss: 0.5200 - val_accuracy: 0.8537\n",
      "Epoch 4/50\n",
      "26/26 [==============================] - 21s 816ms/step - loss: 0.4936 - accuracy: 0.8297 - val_loss: 0.4256 - val_accuracy: 0.8537\n",
      "Epoch 5/50\n",
      "26/26 [==============================] - 21s 816ms/step - loss: 0.4446 - accuracy: 0.8054 - val_loss: 0.4027 - val_accuracy: 0.8683\n",
      "Epoch 6/50\n",
      "26/26 [==============================] - 25s 944ms/step - loss: 0.3595 - accuracy: 0.8710 - val_loss: 0.3385 - val_accuracy: 0.8976\n",
      "Epoch 7/50\n",
      "26/26 [==============================] - 21s 789ms/step - loss: 0.2931 - accuracy: 0.9039 - val_loss: 0.2252 - val_accuracy: 0.9366\n",
      "Epoch 8/50\n",
      "26/26 [==============================] - 21s 823ms/step - loss: 0.2597 - accuracy: 0.9124 - val_loss: 0.1842 - val_accuracy: 0.9854\n",
      "Epoch 9/50\n",
      "25/26 [===========================>..] - ETA: 0s - loss: 0.1958 - accuracy: 0.9475\n",
      "Epoch 00009: ReduceLROnPlateau reducing learning rate to 0.0019999999552965165.\n",
      "26/26 [==============================] - 21s 796ms/step - loss: 0.1962 - accuracy: 0.9453 - val_loss: 0.1871 - val_accuracy: 0.9268\n",
      "Epoch 10/50\n",
      "26/26 [==============================] - 21s 811ms/step - loss: 0.1527 - accuracy: 0.9732 - val_loss: 0.1266 - val_accuracy: 0.9854\n",
      "Epoch 11/50\n",
      "26/26 [==============================] - 21s 800ms/step - loss: 0.1403 - accuracy: 0.9793 - val_loss: 0.1211 - val_accuracy: 0.9854\n",
      "Epoch 12/50\n",
      "26/26 [==============================] - 21s 796ms/step - loss: 0.1343 - accuracy: 0.9793 - val_loss: 0.1198 - val_accuracy: 0.9805\n",
      "Epoch 13/50\n",
      "26/26 [==============================] - 21s 804ms/step - loss: 0.1279 - accuracy: 0.9793 - val_loss: 0.1112 - val_accuracy: 0.9854\n",
      "Epoch 14/50\n",
      "26/26 [==============================] - 21s 815ms/step - loss: 0.1219 - accuracy: 0.9793 - val_loss: 0.1046 - val_accuracy: 0.9854\n",
      "Epoch 15/50\n",
      "26/26 [==============================] - 20s 784ms/step - loss: 0.1171 - accuracy: 0.9830 - val_loss: 0.1000 - val_accuracy: 0.9854\n",
      "Epoch 16/50\n",
      "26/26 [==============================] - 21s 804ms/step - loss: 0.1110 - accuracy: 0.9805 - val_loss: 0.0911 - val_accuracy: 0.9902\n",
      "Epoch 17/50\n",
      "26/26 [==============================] - 22s 830ms/step - loss: 0.1065 - accuracy: 0.9854 - val_loss: 0.0889 - val_accuracy: 0.9902\n",
      "Epoch 18/50\n",
      "26/26 [==============================] - 21s 812ms/step - loss: 0.1017 - accuracy: 0.9830 - val_loss: 0.0838 - val_accuracy: 0.9902\n",
      "Epoch 19/50\n",
      "26/26 [==============================] - 21s 810ms/step - loss: 0.0984 - accuracy: 0.9818 - val_loss: 0.0809 - val_accuracy: 0.9902\n",
      "Epoch 20/50\n",
      "26/26 [==============================] - 20s 782ms/step - loss: 0.0956 - accuracy: 0.9854 - val_loss: 0.0784 - val_accuracy: 0.9902\n",
      "Epoch 21/50\n",
      "26/26 [==============================] - 21s 797ms/step - loss: 0.0911 - accuracy: 0.9854 - val_loss: 0.0752 - val_accuracy: 0.9902\n",
      "Epoch 22/50\n",
      "25/26 [===========================>..] - ETA: 0s - loss: 0.0888 - accuracy: 0.9862\n",
      "Epoch 00022: ReduceLROnPlateau reducing learning rate to 0.001.\n",
      "26/26 [==============================] - 21s 802ms/step - loss: 0.0878 - accuracy: 0.9866 - val_loss: 0.0756 - val_accuracy: 0.9902\n",
      "Epoch 23/50\n",
      "26/26 [==============================] - 20s 776ms/step - loss: 0.0849 - accuracy: 0.9854 - val_loss: 0.0731 - val_accuracy: 0.9902\n",
      "Epoch 24/50\n",
      "26/26 [==============================] - 20s 763ms/step - loss: 0.0835 - accuracy: 0.9866 - val_loss: 0.0716 - val_accuracy: 0.9902\n",
      "Epoch 25/50\n",
      "26/26 [==============================] - 21s 812ms/step - loss: 0.0819 - accuracy: 0.9854 - val_loss: 0.0705 - val_accuracy: 0.9902\n",
      "Epoch 26/50\n",
      "25/26 [===========================>..] - ETA: 0s - loss: 0.0809 - accuracy: 0.9862\n",
      "Epoch 00026: ReduceLROnPlateau reducing learning rate to 0.001.\n",
      "26/26 [==============================] - 21s 795ms/step - loss: 0.0804 - accuracy: 0.9866 - val_loss: 0.0712 - val_accuracy: 0.9902\n",
      "Epoch 27/50\n",
      "25/26 [===========================>..] - ETA: 0s - loss: 0.0797 - accuracy: 0.9862\n",
      "Epoch 00027: ReduceLROnPlateau reducing learning rate to 0.001.\n",
      "26/26 [==============================] - 20s 781ms/step - loss: 0.0791 - accuracy: 0.9866 - val_loss: 0.0720 - val_accuracy: 0.9854\n",
      "Epoch 28/50\n",
      "26/26 [==============================] - 21s 793ms/step - loss: 0.0781 - accuracy: 0.9854 - val_loss: 0.0671 - val_accuracy: 0.9902\n",
      "Epoch 29/50\n",
      "25/26 [===========================>..] - ETA: 0s - loss: 0.0772 - accuracy: 0.9862\n",
      "Epoch 00029: ReduceLROnPlateau reducing learning rate to 0.001.\n",
      "26/26 [==============================] - 20s 788ms/step - loss: 0.0762 - accuracy: 0.9866 - val_loss: 0.0673 - val_accuracy: 0.9902\n",
      "Epoch 30/50\n",
      "26/26 [==============================] - 20s 788ms/step - loss: 0.0748 - accuracy: 0.9866 - val_loss: 0.0653 - val_accuracy: 0.9902\n",
      "Epoch 31/50\n",
      "25/26 [===========================>..] - ETA: 0s - loss: 0.0752 - accuracy: 0.9862\n",
      "Epoch 00031: ReduceLROnPlateau reducing learning rate to 0.001.\n",
      "26/26 [==============================] - 21s 808ms/step - loss: 0.0738 - accuracy: 0.9866 - val_loss: 0.0684 - val_accuracy: 0.9854\n",
      "Epoch 32/50\n",
      "26/26 [==============================] - 22s 861ms/step - loss: 0.0723 - accuracy: 0.9878 - val_loss: 0.0631 - val_accuracy: 0.9902\n",
      "Epoch 33/50\n",
      "25/26 [===========================>..] - ETA: 0s - loss: 0.0724 - accuracy: 0.9875\n",
      "Epoch 00033: ReduceLROnPlateau reducing learning rate to 0.001.\n",
      "26/26 [==============================] - 21s 788ms/step - loss: 0.0714 - accuracy: 0.9878 - val_loss: 0.0672 - val_accuracy: 0.9854\n",
      "Epoch 34/50\n",
      "25/26 [===========================>..] - ETA: 0s - loss: 0.0712 - accuracy: 0.9875\n",
      "Epoch 00034: ReduceLROnPlateau reducing learning rate to 0.001.\n",
      "26/26 [==============================] - 21s 800ms/step - loss: 0.0704 - accuracy: 0.9878 - val_loss: 0.0649 - val_accuracy: 0.9854\n",
      "Epoch 35/50\n",
      "26/26 [==============================] - 20s 773ms/step - loss: 0.0695 - accuracy: 0.9878 - val_loss: 0.0607 - val_accuracy: 0.9902\n",
      "Epoch 36/50\n",
      "25/26 [===========================>..] - ETA: 0s - loss: 0.0690 - accuracy: 0.9875\n",
      "Epoch 00036: ReduceLROnPlateau reducing learning rate to 0.001.\n",
      "26/26 [==============================] - 22s 839ms/step - loss: 0.0681 - accuracy: 0.9878 - val_loss: 0.0612 - val_accuracy: 0.9854\n",
      "Epoch 37/50\n",
      "25/26 [===========================>..] - ETA: 0s - loss: 0.0678 - accuracy: 0.9875\n",
      "Epoch 00037: ReduceLROnPlateau reducing learning rate to 0.001.\n",
      "26/26 [==============================] - 21s 801ms/step - loss: 0.0674 - accuracy: 0.9878 - val_loss: 0.0616 - val_accuracy: 0.9854\n",
      "Epoch 38/50\n",
      "25/26 [===========================>..] - ETA: 0s - loss: 0.0667 - accuracy: 0.9887\n",
      "Epoch 00038: ReduceLROnPlateau reducing learning rate to 0.001.\n",
      "26/26 [==============================] - 22s 860ms/step - loss: 0.0662 - accuracy: 0.9891 - val_loss: 0.0616 - val_accuracy: 0.9854\n",
      "Epoch 39/50\n",
      "25/26 [===========================>..] - ETA: 0s - loss: 0.0657 - accuracy: 0.9862\n",
      "Epoch 00039: ReduceLROnPlateau reducing learning rate to 0.001.\n",
      "26/26 [==============================] - 21s 793ms/step - loss: 0.0651 - accuracy: 0.9866 - val_loss: 0.0619 - val_accuracy: 0.9854\n",
      "Epoch 40/50\n",
      "26/26 [==============================] - 22s 831ms/step - loss: 0.0639 - accuracy: 0.9878 - val_loss: 0.0578 - val_accuracy: 0.9854\n",
      "Epoch 41/50\n",
      "25/26 [===========================>..] - ETA: 0s - loss: 0.0646 - accuracy: 0.9875\n",
      "Epoch 00041: ReduceLROnPlateau reducing learning rate to 0.001.\n",
      "26/26 [==============================] - 20s 787ms/step - loss: 0.0630 - accuracy: 0.9878 - val_loss: 0.0585 - val_accuracy: 0.9854\n",
      "Epoch 42/50\n",
      "25/26 [===========================>..] - ETA: 0s - loss: 0.0626 - accuracy: 0.9887\n",
      "Epoch 00042: ReduceLROnPlateau reducing learning rate to 0.001.\n",
      "26/26 [==============================] - 20s 776ms/step - loss: 0.0633 - accuracy: 0.9878 - val_loss: 0.0585 - val_accuracy: 0.9854\n",
      "Epoch 43/50\n",
      "25/26 [===========================>..] - ETA: 0s - loss: 0.0619 - accuracy: 0.9887\n",
      "Epoch 00043: ReduceLROnPlateau reducing learning rate to 0.001.\n",
      "26/26 [==============================] - 21s 791ms/step - loss: 0.0617 - accuracy: 0.9891 - val_loss: 0.0578 - val_accuracy: 0.9854\n",
      "Epoch 44/50\n",
      "26/26 [==============================] - 21s 812ms/step - loss: 0.0605 - accuracy: 0.9878 - val_loss: 0.0574 - val_accuracy: 0.9854\n",
      "Epoch 45/50\n",
      "26/26 [==============================] - 21s 800ms/step - loss: 0.0601 - accuracy: 0.9891 - val_loss: 0.0567 - val_accuracy: 0.9854\n",
      "Epoch 46/50\n",
      "25/26 [===========================>..] - ETA: 0s - loss: 0.0573 - accuracy: 0.9887\n",
      "Epoch 00046: ReduceLROnPlateau reducing learning rate to 0.001.\n",
      "26/26 [==============================] - 20s 780ms/step - loss: 0.0596 - accuracy: 0.9878 - val_loss: 0.0569 - val_accuracy: 0.9854\n",
      "Epoch 47/50\n",
      "26/26 [==============================] - 20s 783ms/step - loss: 0.0582 - accuracy: 0.9891 - val_loss: 0.0542 - val_accuracy: 0.9854\n",
      "Epoch 48/50\n",
      "25/26 [===========================>..] - ETA: 0s - loss: 0.0560 - accuracy: 0.9900\n",
      "Epoch 00048: ReduceLROnPlateau reducing learning rate to 0.001.\n",
      "26/26 [==============================] - 20s 787ms/step - loss: 0.0577 - accuracy: 0.9891 - val_loss: 0.0560 - val_accuracy: 0.9854\n",
      "Epoch 49/50\n",
      "26/26 [==============================] - 21s 793ms/step - loss: 0.0563 - accuracy: 0.9891 - val_loss: 0.0533 - val_accuracy: 0.9854\n",
      "Epoch 50/50\n",
      "26/26 [==============================] - 21s 796ms/step - loss: 0.0561 - accuracy: 0.9891 - val_loss: 0.0522 - val_accuracy: 0.9854\n"
     ]
    },
    {
     "data": {
      "text/plain": [
       "<tensorflow.python.keras.callbacks.History at 0x7f7941f64cd0>"
      ]
     },
     "execution_count": 37,
     "metadata": {},
     "output_type": "execute_result"
    }
   ],
   "source": [
    "model = build_model(dense_units=256)\n",
    "model.compile(\n",
    "    optimizer='sgd',\n",
    "    loss='sparse_categorical_crossentropy', \n",
    "    metrics=['accuracy'])\n",
    "  \n",
    "model.fit(train_batches, \n",
    "          epochs=50, \n",
    "          validation_data=validation_batches, \n",
    "          callbacks=[ReduceLROnPlateau(monitor='val_loss', \n",
    "                                       factor=0.2, verbose=1,\n",
    "                                       patience=1, min_lr=0.001),\n",
    "                     TensorBoard(log_dir='./log_dir')])            "
   ]
  },
  {
   "cell_type": "code",
   "execution_count": null,
   "metadata": {
    "colab": {},
    "colab_type": "code",
    "id": "isfTWP4NYudk"
   },
   "outputs": [],
   "source": [
    "%tensorboard --logdir log_dir"
   ]
  }
 ],
 "metadata": {
  "colab": {
   "collapsed_sections": [],
   "include_colab_link": true,
   "name": "ExploringCallbacks.ipynb",
   "provenance": []
  },
  "kernelspec": {
   "display_name": "Python 3",
   "language": "python",
   "name": "python3"
  },
  "language_info": {
   "codemirror_mode": {
    "name": "ipython",
    "version": 3
   },
   "file_extension": ".py",
   "mimetype": "text/x-python",
   "name": "python",
   "nbconvert_exporter": "python",
   "pygments_lexer": "ipython3",
   "version": "3.7.6"
  }
 },
 "nbformat": 4,
 "nbformat_minor": 4
}
